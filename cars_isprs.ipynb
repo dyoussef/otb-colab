{
  "nbformat": 4,
  "nbformat_minor": 0,
  "metadata": {
    "colab": {
      "name": "cars-isprs.ipynb",
      "provenance": [],
      "collapsed_sections": []
    },
    "kernelspec": {
      "name": "python3",
      "display_name": "Python 3"
    },
    "language_info": {
      "name": "python"
    }
  },
  "cells": [
    {
      "cell_type": "markdown",
      "source": [
        "<center>\n",
        "<img style=\"float: right;\" src=\"https://www.isprs.org/congresses/nice2020-2022/isprsNice22-logo.jpg\" alt=\"drawing\" width=\"150\"/>\n",
        "\n",
        "<img style=\"float: right;\" src=\"https://www.isprs2022-nice.com/wp-content/uploads/2019/03/isprs-logoXS_150_150_Circle3.png\" alt=\"drawing\" width=\"150\"/>\n",
        "\n",
        "<img style=\"float: right;\" src=\"https://github.com/CNES/cars/raw/master/docs/source/images/picto_transparent_mini.png\" alt=\"drawing\" width=\"150\"/>\n",
        "\n",
        "</center>\n",
        "\n",
        "<center> <h1> CARS, a satellite multi view stereo pipeline (half day – morning)</h1> </center>\n",
        "\n",
        "<h6> From stereo images </h6> |  <h6> CARS produces a Digital Surface Model (DSM) </h6>\n",
        ":-------------------------:|:-------------------------:\n",
        "<img style=\"float: right;\" src=\"https://github.com/CNES/cars/raw/master/docs/source/images/animation_sat.gif\" alt=\"drawing\" height=\"200\"/> |  <img style=\"float: right;\" src=\"https://github.com/CNES/cars/raw/master/docs/source/images/overview_dsm_3d.gif\" alt=\"drawing\" height=\"200\"/>"
      ],
      "metadata": {
        "id": "Gfmsv1wE7vVC"
      }
    },
    {
      "cell_type": "markdown",
      "source": [
        "### Quick installation (<10min)"
      ],
      "metadata": {
        "id": "xk1m4AZntaQz"
      }
    },
    {
      "cell_type": "code",
      "source": [
        "!wget https://raw.githubusercontent.com/dyoussef/otb-colab/main/cars-in-colab.sh\n",
        "!bash cars-in-colab.sh"
      ],
      "metadata": {
        "id": "BHYmm52o7xIY"
      },
      "execution_count": null,
      "outputs": []
    },
    {
      "cell_type": "code",
      "source": [
        "import os\n",
        "# otb environment variables\n",
        "os.environ[\"OTB_APPLICATION_PATH\"] = \"/usr/lib/otb/applications\"\n",
        "os.environ[\"OTB_MAX_RAM_HINT\"] = \"2000\"\n",
        "os.environ[\"OTB_LOGGER_LEVEL\"] = \"WARNING\""
      ],
      "metadata": {
        "id": "QCangdFqCNdr"
      },
      "execution_count": 2,
      "outputs": []
    },
    {
      "cell_type": "markdown",
      "source": [
        "### Download open data pyramids"
      ],
      "metadata": {
        "id": "SWt5Bh53t2M_"
      }
    },
    {
      "cell_type": "code",
      "source": [
        "!wget https://raw.githubusercontent.com/CNES/cars/master/docs/source/demo/data_samples.tar.bz2\n",
        "!tar xvfj data_samples.tar.bz2"
      ],
      "metadata": {
        "id": "gbqhyJPeD9uN"
      },
      "execution_count": null,
      "outputs": []
    },
    {
      "cell_type": "markdown",
      "source": [
        "### Two steps (prepare + compute_dsm), one DSM"
      ],
      "metadata": {
        "id": "Ju5NjXGwsjmj"
      }
    },
    {
      "cell_type": "code",
      "source": [
        "!cars prepare -i data_samples/input12.json -o out/prepare12"
      ],
      "metadata": {
        "id": "0ckCSB45CYp0"
      },
      "execution_count": null,
      "outputs": []
    },
    {
      "cell_type": "code",
      "source": [
        "!cars prepare -i data_samples/input13.json -o out/prepare13"
      ],
      "metadata": {
        "id": "W70ohDA8BZel"
      },
      "execution_count": null,
      "outputs": []
    },
    {
      "cell_type": "code",
      "source": [
        "!cars compute_dsm -i out/prepare12/content.json out/prepare13/content.json -o out/compute"
      ],
      "metadata": {
        "id": "6ot8QTAXJZbN"
      },
      "execution_count": null,
      "outputs": []
    },
    {
      "cell_type": "markdown",
      "source": [
        "### Let's see the results"
      ],
      "metadata": {
        "id": "nhupYYp3suJO"
      }
    },
    {
      "cell_type": "markdown",
      "source": [
        "#### Open & format output data"
      ],
      "metadata": {
        "id": "VSohBnrhuNVk"
      }
    },
    {
      "cell_type": "code",
      "source": [
        "import rasterio as rio\n",
        "import numpy as np\n",
        "\n",
        "with rio.open('out/compute/dsm.tif') as dsm_reader:\n",
        "  altitudes = dsm_reader.read(1)\n",
        "  transform = dsm_reader.transform\n",
        "  width, height = dsm_reader.width, dsm_reader.height\n",
        "  cols, rows = np.meshgrid(np.arange(width), np.arange(height))\n",
        "  \n",
        "  # get coordinates to plot points cloud\n",
        "  x_coords, y_coords = rio.transform.xy(transform, rows, cols, offset='center')\n",
        "  x_coords = np.ravel(x_coords).T\n",
        "  y_coords = np.ravel(y_coords).T\n",
        "  z_coords = altitudes.reshape(-1).T\n",
        "  \n",
        "  nodata = dsm_reader.nodata\n",
        "\n",
        "with rio.open('out/compute/clr.tif') as clr_reader:\n",
        "  colors = clr_reader.read().astype(float)\n",
        "  # swap axes for imshow\n",
        "  colors = np.swapaxes(colors[:3, :, :], 0, 2)\n",
        "\n",
        "  # rescale colors\n",
        "  for idx in range(3):\n",
        "    colors[..., idx] = colors[..., idx].astype(float) / colors[..., idx].max()\n",
        "\n",
        "# stack coords as points cloud\n",
        "cloud = np.stack((x_coords, y_coords, z_coords), axis=1)\n",
        "valid = cloud[:, 2] != nodata\n",
        "cloud = cloud[valid]\n",
        "\n",
        "# remove nodata altitudes\n",
        "altitudes[altitudes==nodata] = np.nan"
      ],
      "metadata": {
        "id": "VnnpXocLgnOP"
      },
      "execution_count": 7,
      "outputs": []
    },
    {
      "cell_type": "markdown",
      "source": [
        "#### Imshow (2D)"
      ],
      "metadata": {
        "id": "QwXQCoGHuWPs"
      }
    },
    {
      "cell_type": "code",
      "source": [
        "# plot altitudes + colors\n",
        "import matplotlib.pyplot as plt\n",
        "\n",
        "fig, (ax1, ax2) = plt.subplots(nrows=1, ncols=2, figsize=(15, 9), constrained_layout=True)\n",
        "im1 = ax1.imshow(altitudes.T, cmap='jet', aspect=\"auto\")\n",
        "ax1.axis('off')\n",
        "ax1.set_title('altitudes', fontsize=15)\n",
        "ax2.imshow(colors, aspect=\"auto\")\n",
        "ax2.axis('off')\n",
        "ax2.set_title('colors', fontsize=15)\n",
        "fig.colorbar(im1, ax=ax1, shrink=0.7, aspect=30, orientation=\"horizontal\", label=\"meters\")\n",
        "plt.show()"
      ],
      "metadata": {
        "id": "4ww0z6VvdWGE"
      },
      "execution_count": null,
      "outputs": []
    },
    {
      "cell_type": "markdown",
      "source": [
        "#### Scatter (3D)"
      ],
      "metadata": {
        "id": "syo9nb6buaAE"
      }
    },
    {
      "cell_type": "code",
      "source": [
        "# plot 3d points cloud (subsampled)\n",
        "import plotly.graph_objects as go\n",
        "\n",
        "inds = np.random.choice(range(cloud.shape[0]), 20000)\n",
        "x = cloud[inds, 0]\n",
        "y = cloud[inds, 1]\n",
        "z = cloud[inds, 2]\n",
        "\n",
        "layout = go.Layout(scene=dict(aspectmode=\"data\"))\n",
        "fig = go.Figure(data=[go.Scatter3d(x=x, y=y, z=z,\n",
        "                                   mode='markers',\n",
        "                                   marker=dict(\n",
        "                                   size=2,\n",
        "                                   color=z,\n",
        "                                   colorscale='jet'))],\n",
        "                layout=layout)\n",
        "fig.show()"
      ],
      "metadata": {
        "id": "Zt3AnafpWl2t"
      },
      "execution_count": null,
      "outputs": []
    }
  ]
}